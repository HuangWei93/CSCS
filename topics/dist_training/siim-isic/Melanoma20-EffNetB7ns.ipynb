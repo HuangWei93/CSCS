{
 "cells": [
  {
   "cell_type": "code",
   "execution_count": 1,
   "metadata": {},
   "outputs": [],
   "source": [
    "%load_ext autoreload\n",
    "%autoreload 2\n",
    "\n",
    "import os\n",
    "import gc\n",
    "import math\n",
    "import time\n",
    "import random\n",
    "random.seed(42)\n",
    "\n",
    "import numpy as np\n",
    "import pandas as pd\n",
    "from scipy.special import expit as sigmoid\n",
    "\n",
    "import PIL\n",
    "\n",
    "from tqdm import tqdm\n",
    "from attrdict import AttrDict\n",
    "\n",
    "import tensorflow as tf\n",
    "import tensorflow_addons as tfa\n",
    "import tensorflow.keras.backend as K\n",
    "\n",
    "try:\n",
    "    import efficientnet.tfkeras as efn\n",
    "except:\n",
    "    !python3 -m pip install --user efficientnet attrdict\n",
    "    import efficientnet.tfkeras as efn\n",
    "\n",
    "from one_cycle_scheduler import *"
   ]
  },
  {
   "cell_type": "code",
   "execution_count": 2,
   "metadata": {},
   "outputs": [],
   "source": [
    "num_workers = int(os.environ['SLURM_NNODES'])\n",
    "node_id = int(os.environ['SLURM_NODEID'])\n",
    "\n",
    "fold  = 3\n",
    "kfold = 5\n",
    "debug = True\n",
    "batch_size = 80"
   ]
  },
  {
   "cell_type": "code",
   "execution_count": 3,
   "metadata": {},
   "outputs": [
    {
     "name": "stdout",
     "output_type": "stream",
     "text": [
      "AttrDict({'batch_size': 80, 'read_size': 256, 'crop_size': 224, 'net_size': 224, 'LR_START': 0.4, 'LR_MAX': 4.0, 'LR_END': 0.8, 'LR_RAMPUP_EPOCHS': 0.5, 'epochs': 15, 'rot': 180.0, 'shr': 2.0, 'hzoom': 8.0, 'wzoom': 8.0, 'hshift': 8.0, 'wshift': 8.0, 'tta_steps': 4, 'optimizer': <tensorflow_addons.optimizers.weight_decay_optimizers.SGDW object at 0x2aab6bec11d0>, 'label_smooth_fac': 0.05})\n"
     ]
    }
   ],
   "source": [
    "CFG = AttrDict(\n",
    "    batch_size       = batch_size,\n",
    "\n",
    "    # Image sizes\n",
    "    read_size        = 256, \n",
    "    crop_size        = 224, \n",
    "    net_size         = 224, \n",
    "\n",
    "    # Training Schedule\n",
    "    LR_START         = 3e-3 * batch_size,\n",
    "    LR_MAX           = 3e-2 * batch_size,\n",
    "    LR_END           = 1e-2 * batch_size,\n",
    "    LR_RAMPUP_EPOCHS = 0.5,\n",
    "    epochs           = 5 if debug else 15,\n",
    "\n",
    "    # Image Augmentation\n",
    "    rot              = 180.0,\n",
    "    shr              =   2.0,\n",
    "    hzoom            =   8.0,\n",
    "    wzoom            =   8.0,\n",
    "    hshift           =   8.0,\n",
    "    wshift           =   8.0,\n",
    "    tta_steps        = 2 if debug else 4,\n",
    "\n",
    "    optimizer        = tfa.optimizers.SGDW(lr=4e-2 * batch_size,\n",
    "                                            nesterov=True,\n",
    "                                            weight_decay=1e-5),\n",
    "    label_smooth_fac = 0.05,\n",
    ")\n",
    "\n",
    "print(CFG)"
   ]
  },
  {
   "cell_type": "code",
   "execution_count": 4,
   "metadata": {},
   "outputs": [
    {
     "name": "stdout",
     "output_type": "stream",
     "text": [
      "Training with /scratch/snx3000/dealmeih/summer_school/melanoma-256x256/ and saving at /scratch/snx3000/dealmeih/summer_school/melanoma_f0/\n",
      "Validation:\n",
      " ['/scratch/snx3000/dealmeih/summer_school/melanoma-256x256/train00-2182.tfrec'\n",
      " '/scratch/snx3000/dealmeih/summer_school/melanoma-256x256/train05-2171.tfrec'\n",
      " '/scratch/snx3000/dealmeih/summer_school/melanoma-256x256/train10-2174.tfrec']\n",
      "Training:\n",
      " ['/scratch/snx3000/dealmeih/summer_school/melanoma-256x256/train01-2185.tfrec'\n",
      " '/scratch/snx3000/dealmeih/summer_school/melanoma-256x256/train02-2193.tfrec'\n",
      " '/scratch/snx3000/dealmeih/summer_school/melanoma-256x256/train03-2182.tfrec'\n",
      " '/scratch/snx3000/dealmeih/summer_school/melanoma-256x256/train04-2167.tfrec'\n",
      " '/scratch/snx3000/dealmeih/summer_school/melanoma-256x256/train06-2175.tfrec'\n",
      " '/scratch/snx3000/dealmeih/summer_school/melanoma-256x256/train07-2174.tfrec'\n",
      " '/scratch/snx3000/dealmeih/summer_school/melanoma-256x256/train08-2177.tfrec'\n",
      " '/scratch/snx3000/dealmeih/summer_school/melanoma-256x256/train09-2178.tfrec'\n",
      " '/scratch/snx3000/dealmeih/summer_school/melanoma-256x256/train11-2176.tfrec'\n",
      " '/scratch/snx3000/dealmeih/summer_school/melanoma-256x256/train12-2198.tfrec'\n",
      " '/scratch/snx3000/dealmeih/summer_school/melanoma-256x256/train13-2186.tfrec'\n",
      " '/scratch/snx3000/dealmeih/summer_school/melanoma-256x256/train14-2174.tfrec']\n"
     ]
    }
   ],
   "source": [
    "BASEPATH   = \"/scratch/snx3000/dealmeih/summer_school/melanoma-256x256/\"\n",
    "OUTPUTPATH = os.environ['SCRATCH'] + f\"/summer_school/melanoma_f{fold}/\"\n",
    "print(f\"Training with {BASEPATH} and saving at {OUTPUTPATH}\")\n",
    "\n",
    "df_train = pd.read_csv(BASEPATH + 'train.csv')\n",
    "df_test  = pd.read_csv(BASEPATH + 'test.csv')\n",
    "df_sub   = pd.read_csv(BASEPATH + 'sample_submission.csv')\n",
    "\n",
    "files_test  = np.sort(tf.io.gfile.glob(BASEPATH + 'test*.tfrec'))\n",
    "files_train = np.sort(tf.io.gfile.glob(BASEPATH + 'train*.tfrec'))\n",
    "\n",
    "idx = np.arange(len(files_train))\n",
    "files_valid = files_train[idx % kfold == fold]\n",
    "files_train = files_train[idx % kfold != fold]\n",
    "\n",
    "print('Validation:\\n', files_valid)\n",
    "print('Training:\\n',   files_train)"
   ]
  },
  {
   "cell_type": "code",
   "execution_count": 5,
   "metadata": {},
   "outputs": [
    {
     "data": {
      "text/html": [
       "<div>\n",
       "<style scoped>\n",
       "    .dataframe tbody tr th:only-of-type {\n",
       "        vertical-align: middle;\n",
       "    }\n",
       "\n",
       "    .dataframe tbody tr th {\n",
       "        vertical-align: top;\n",
       "    }\n",
       "\n",
       "    .dataframe thead th {\n",
       "        text-align: right;\n",
       "    }\n",
       "</style>\n",
       "<table border=\"1\" class=\"dataframe\">\n",
       "  <thead>\n",
       "    <tr style=\"text-align: right;\">\n",
       "      <th></th>\n",
       "      <th>image_name</th>\n",
       "      <th>patient_id</th>\n",
       "      <th>sex</th>\n",
       "      <th>age_approx</th>\n",
       "      <th>anatom_site_general_challenge</th>\n",
       "      <th>diagnosis</th>\n",
       "      <th>benign_malignant</th>\n",
       "      <th>target</th>\n",
       "    </tr>\n",
       "  </thead>\n",
       "  <tbody>\n",
       "    <tr>\n",
       "      <th>3627</th>\n",
       "      <td>ISIC_1195689</td>\n",
       "      <td>IP_6885799</td>\n",
       "      <td>female</td>\n",
       "      <td>45.0</td>\n",
       "      <td>lower extremity</td>\n",
       "      <td>unknown</td>\n",
       "      <td>benign</td>\n",
       "      <td>0</td>\n",
       "    </tr>\n",
       "    <tr>\n",
       "      <th>30580</th>\n",
       "      <td>ISIC_9240657</td>\n",
       "      <td>IP_7772951</td>\n",
       "      <td>male</td>\n",
       "      <td>45.0</td>\n",
       "      <td>NaN</td>\n",
       "      <td>unknown</td>\n",
       "      <td>benign</td>\n",
       "      <td>0</td>\n",
       "    </tr>\n",
       "    <tr>\n",
       "      <th>56</th>\n",
       "      <td>ISIC_0097499</td>\n",
       "      <td>IP_0414408</td>\n",
       "      <td>male</td>\n",
       "      <td>50.0</td>\n",
       "      <td>lower extremity</td>\n",
       "      <td>unknown</td>\n",
       "      <td>benign</td>\n",
       "      <td>0</td>\n",
       "    </tr>\n",
       "    <tr>\n",
       "      <th>30652</th>\n",
       "      <td>ISIC_9263944</td>\n",
       "      <td>IP_2101945</td>\n",
       "      <td>male</td>\n",
       "      <td>65.0</td>\n",
       "      <td>lower extremity</td>\n",
       "      <td>unknown</td>\n",
       "      <td>benign</td>\n",
       "      <td>0</td>\n",
       "    </tr>\n",
       "    <tr>\n",
       "      <th>24244</th>\n",
       "      <td>ISIC_7358425</td>\n",
       "      <td>IP_9896679</td>\n",
       "      <td>female</td>\n",
       "      <td>35.0</td>\n",
       "      <td>torso</td>\n",
       "      <td>unknown</td>\n",
       "      <td>benign</td>\n",
       "      <td>0</td>\n",
       "    </tr>\n",
       "    <tr>\n",
       "      <th>...</th>\n",
       "      <td>...</td>\n",
       "      <td>...</td>\n",
       "      <td>...</td>\n",
       "      <td>...</td>\n",
       "      <td>...</td>\n",
       "      <td>...</td>\n",
       "      <td>...</td>\n",
       "      <td>...</td>\n",
       "    </tr>\n",
       "    <tr>\n",
       "      <th>23346</th>\n",
       "      <td>ISIC_7096946</td>\n",
       "      <td>IP_5805281</td>\n",
       "      <td>male</td>\n",
       "      <td>50.0</td>\n",
       "      <td>torso</td>\n",
       "      <td>nevus</td>\n",
       "      <td>benign</td>\n",
       "      <td>0</td>\n",
       "    </tr>\n",
       "    <tr>\n",
       "      <th>11863</th>\n",
       "      <td>ISIC_3653492</td>\n",
       "      <td>IP_8051701</td>\n",
       "      <td>female</td>\n",
       "      <td>65.0</td>\n",
       "      <td>upper extremity</td>\n",
       "      <td>unknown</td>\n",
       "      <td>benign</td>\n",
       "      <td>0</td>\n",
       "    </tr>\n",
       "    <tr>\n",
       "      <th>27063</th>\n",
       "      <td>ISIC_8198182</td>\n",
       "      <td>IP_9362467</td>\n",
       "      <td>female</td>\n",
       "      <td>45.0</td>\n",
       "      <td>torso</td>\n",
       "      <td>unknown</td>\n",
       "      <td>benign</td>\n",
       "      <td>0</td>\n",
       "    </tr>\n",
       "    <tr>\n",
       "      <th>8366</th>\n",
       "      <td>ISIC_2609984</td>\n",
       "      <td>IP_2586665</td>\n",
       "      <td>female</td>\n",
       "      <td>45.0</td>\n",
       "      <td>torso</td>\n",
       "      <td>melanoma</td>\n",
       "      <td>malignant</td>\n",
       "      <td>1</td>\n",
       "    </tr>\n",
       "    <tr>\n",
       "      <th>17530</th>\n",
       "      <td>ISIC_5351167</td>\n",
       "      <td>IP_8442345</td>\n",
       "      <td>male</td>\n",
       "      <td>35.0</td>\n",
       "      <td>lower extremity</td>\n",
       "      <td>unknown</td>\n",
       "      <td>benign</td>\n",
       "      <td>0</td>\n",
       "    </tr>\n",
       "  </tbody>\n",
       "</table>\n",
       "<p>33126 rows × 8 columns</p>\n",
       "</div>"
      ],
      "text/plain": [
       "         image_name  patient_id     sex  age_approx  \\\n",
       "3627   ISIC_1195689  IP_6885799  female        45.0   \n",
       "30580  ISIC_9240657  IP_7772951    male        45.0   \n",
       "56     ISIC_0097499  IP_0414408    male        50.0   \n",
       "30652  ISIC_9263944  IP_2101945    male        65.0   \n",
       "24244  ISIC_7358425  IP_9896679  female        35.0   \n",
       "...             ...         ...     ...         ...   \n",
       "23346  ISIC_7096946  IP_5805281    male        50.0   \n",
       "11863  ISIC_3653492  IP_8051701  female        65.0   \n",
       "27063  ISIC_8198182  IP_9362467  female        45.0   \n",
       "8366   ISIC_2609984  IP_2586665  female        45.0   \n",
       "17530  ISIC_5351167  IP_8442345    male        35.0   \n",
       "\n",
       "      anatom_site_general_challenge diagnosis benign_malignant  target  \n",
       "3627                lower extremity   unknown           benign       0  \n",
       "30580                           NaN   unknown           benign       0  \n",
       "56                  lower extremity   unknown           benign       0  \n",
       "30652               lower extremity   unknown           benign       0  \n",
       "24244                         torso   unknown           benign       0  \n",
       "...                             ...       ...              ...     ...  \n",
       "23346                         torso     nevus           benign       0  \n",
       "11863               upper extremity   unknown           benign       0  \n",
       "27063                         torso   unknown           benign       0  \n",
       "8366                          torso  melanoma        malignant       1  \n",
       "17530               lower extremity   unknown           benign       0  \n",
       "\n",
       "[33126 rows x 8 columns]"
      ]
     },
     "execution_count": 5,
     "metadata": {},
     "output_type": "execute_result"
    }
   ],
   "source": [
    "# sample some data\n",
    "pd.read_csv(BASEPATH + 'train.csv').sample(frac=1, random_state=4)"
   ]
  },
  {
   "cell_type": "code",
   "execution_count": 6,
   "metadata": {
    "_cell_guid": "79c7e3d0-c299-4dcb-8224-4455121ee9b0",
    "_uuid": "d629ff2d2480ee46fbb7e2d37f6b5fab8052498a"
   },
   "outputs": [
    {
     "data": {
      "text/plain": [
       "(1, [PhysicalDevice(name='/physical_device:GPU:0', device_type='GPU')])"
      ]
     },
     "execution_count": 6,
     "metadata": {},
     "output_type": "execute_result"
    }
   ],
   "source": [
    "# Disable greedy GPU memory allocation\n",
    "gpus = tf.config.experimental.list_physical_devices('GPU')\n",
    "tf.config.experimental.set_memory_growth(gpus[0], True)\n",
    "\n",
    "# default strategy (single node + single GPU, if available)\n",
    "strategy = tf.distribute.get_strategy()\n",
    "replicas = strategy.num_replicas_in_sync\n",
    "\n",
    "print(replicas, gpus)"
   ]
  },
  {
   "cell_type": "code",
   "execution_count": 7,
   "metadata": {},
   "outputs": [
    {
     "name": "stdout",
     "output_type": "stream",
     "text": [
      "Overwriting siic_tfrec_dataset.py\n"
     ]
    }
   ],
   "source": [
    "%%writefile siic_tfrec_dataset.py\n",
    "import os\n",
    "import re\n",
    "\n",
    "import numpy as np\n",
    "import tensorflow as tf\n",
    "\n",
    "from PIL import ImageFont\n",
    "from PIL import ImageDraw\n",
    "\n",
    "from augmentation import *\n",
    "\n",
    "AUTO = tf.data.experimental.AUTOTUNE\n",
    "\n",
    "def get_dataset(files, cfg, augment=False, shuffle=False, repeat=False, \n",
    "                labeled=True, return_image_names=True):\n",
    "    ''' instantiate a TFRecord dataset '''\n",
    "    ds = tf.data.TFRecordDataset(files, num_parallel_reads=AUTO)\n",
    "\n",
    "    if repeat:\n",
    "        ds = ds.repeat()\n",
    "\n",
    "    if shuffle: \n",
    "        ds = ds.shuffle(1024*5)\n",
    "        opt = tf.data.Options()\n",
    "        opt.experimental_deterministic = False\n",
    "        ds = ds.with_options(opt)\n",
    "\n",
    "    if labeled: \n",
    "        ds = ds.map(read_labeled_tfrecord, num_parallel_calls=AUTO)\n",
    "    else:\n",
    "        ds = ds.map(lambda example: read_unlabeled_tfrecord(example, return_image_names), \n",
    "                    num_parallel_calls=AUTO)      \n",
    "\n",
    "    ds = ds.map(lambda img, imgname_or_label: (prepare_image(img, augment=augment, cfg=cfg), \n",
    "                                               imgname_or_label), \n",
    "                num_parallel_calls=AUTO)\n",
    "\n",
    "    # use global batch size here\n",
    "    ds = ds.batch(cfg['batch_size'])\n",
    "    ds = ds.prefetch(AUTO)\n",
    "    return ds\n",
    "\n",
    "\n",
    "def read_labeled_tfrecord(example):\n",
    "    ''' parse training data '''\n",
    "    tfrec_format = {\n",
    "        'image'                        : tf.io.FixedLenFeature([], tf.string),\n",
    "        'image_name'                   : tf.io.FixedLenFeature([], tf.string),\n",
    "        'patient_id'                   : tf.io.FixedLenFeature([], tf.int64),\n",
    "        'sex'                          : tf.io.FixedLenFeature([], tf.int64),\n",
    "        'age_approx'                   : tf.io.FixedLenFeature([], tf.int64),\n",
    "        'anatom_site_general_challenge': tf.io.FixedLenFeature([], tf.int64),\n",
    "        'diagnosis'                    : tf.io.FixedLenFeature([], tf.int64),\n",
    "        'target'                       : tf.io.FixedLenFeature([], tf.int64),\n",
    "    }\n",
    "    example = tf.io.parse_single_example(example, tfrec_format)\n",
    "    return example['image'], example['target']\n",
    "\n",
    "\n",
    "def read_unlabeled_tfrecord(example, return_image_name):\n",
    "    ''' parse test data '''\n",
    "    tfrec_format = {\n",
    "        'image'                        : tf.io.FixedLenFeature([], tf.string),\n",
    "        'image_name'                   : tf.io.FixedLenFeature([], tf.string),\n",
    "    }\n",
    "    example = tf.io.parse_single_example(example, tfrec_format)\n",
    "    return example['image'], example['image_name'] if return_image_name else 0\n",
    "\n",
    "\n",
    "def prepare_image(img, cfg=None, augment=True):\n",
    "    ''' decode and augment images '''\n",
    "    img = tf.image.decode_jpeg(img, channels=3)\n",
    "    img = tf.image.resize(img, [cfg['read_size'], cfg['read_size']])\n",
    "    img = tf.cast(img, tf.float32) / 255.0\n",
    "\n",
    "    if augment:\n",
    "        img = transform(img, cfg)\n",
    "        img = tf.image.random_crop(img, [cfg['crop_size'], cfg['crop_size'], 3])\n",
    "        img = tf.image.random_flip_left_right(img)\n",
    "        img = tf.image.random_hue(img, 0.01)\n",
    "        img = tf.image.random_saturation(img, 0.7, 1.3)\n",
    "        img = tf.image.random_contrast(img, 0.8, 1.2)\n",
    "        img = tf.image.random_brightness(img, 0.1)\n",
    "    else:\n",
    "        img = tf.image.central_crop(img, cfg['crop_size'] / cfg['read_size'])\n",
    "\n",
    "    if cfg['crop_size'] != cfg['net_size']:\n",
    "        img = tf.image.resize(img, [cfg['net_size'], cfg['net_size']])\n",
    "    img = tf.reshape(img, [cfg['net_size'], cfg['net_size'], 3])\n",
    "    return img\n",
    "\n",
    "\n",
    "def count_data_items(filenames):\n",
    "    ''' count number of images in a set of TFRecords '''\n",
    "    n = [int(re.compile(r\"-([0-9]*)\\.\").search(filename).group(1)) \n",
    "         for filename in filenames]\n",
    "    return np.sum(n)\n",
    "\n",
    "\n",
    "def show_dataset(thumb_size, cols, rows, ds):\n",
    "    ''' create a grid of images from a TF dataset '''\n",
    "    mosaic = PIL.Image.new(mode='RGB', size=(thumb_size*cols + (cols-1), \n",
    "                                             thumb_size*rows + (rows-1)))\n",
    "\n",
    "    targets = []\n",
    "    for idx, data in enumerate(iter(ds)):\n",
    "        img, target_or_imgid = data\n",
    "        ix  = idx % cols\n",
    "        iy  = idx // cols\n",
    "        img = np.clip(img.numpy() * 255, 0, 255).astype(np.uint8)\n",
    "        img = PIL.Image.fromarray(img)\n",
    "        img = img.resize((thumb_size, thumb_size), resample=PIL.Image.BILINEAR)\n",
    "        ImageDraw.Draw(img).text((4, 2), str(target_or_imgid.numpy()), (0,0,0))\n",
    "        mosaic.paste(img, (ix*thumb_size + ix, \n",
    "                           iy*thumb_size + iy))\n",
    "\n",
    "    display(mosaic)"
   ]
  },
  {
   "cell_type": "code",
   "execution_count": 8,
   "metadata": {},
   "outputs": [
    {
     "name": "stdout",
     "output_type": "stream",
     "text": [
      "Training for 327 steps and validating for 81 steps per epoch,across 2 node(s)\n"
     ]
    }
   ],
   "source": [
    "from siic_tfrec_dataset import get_dataset, count_data_items, show_dataset\n",
    "\n",
    "ds_train = get_dataset(files_train, CFG, augment=True, shuffle=True, repeat=True)\n",
    "ds_valid = get_dataset(files_valid, CFG, augment=False, shuffle=False, repeat=True)\n",
    "\n",
    "steps_train = count_data_items(files_train) // CFG.batch_size\n",
    "steps_valid = count_data_items(files_valid) // CFG.batch_size\n",
    "if debug:\n",
    "    steps_train = 50\n",
    "\n",
    "print(f'Training for {steps_train} steps and ' +\n",
    "      f'validating for {steps_valid} steps per epoch,'\n",
    "      f'across {num_workers} node(s)')"
   ]
  },
  {
   "cell_type": "markdown",
   "metadata": {},
   "source": [
    "## Test the input pipeline"
   ]
  },
  {
   "cell_type": "code",
   "execution_count": 9,
   "metadata": {},
   "outputs": [],
   "source": [
    "# ds = get_dataset(files_train, CFG, shuffle=True).unbatch().take(12*3)   \n",
    "# show_dataset(64, 12, 3, ds)\n",
    "# del ds"
   ]
  },
  {
   "cell_type": "markdown",
   "metadata": {},
   "source": [
    "## Test image augmentation"
   ]
  },
  {
   "cell_type": "code",
   "execution_count": 10,
   "metadata": {},
   "outputs": [],
   "source": [
    "# ds = tf.data.TFRecordDataset(files_train, num_parallel_reads=AUTO)\n",
    "# ds = ds.take(1).repeat()\n",
    "# ds = ds.map(read_labeled_tfrecord, num_parallel_calls=AUTO)\n",
    "# ds = ds.map(lambda img, target: (prepare_image(img, cfg=CFG, augment=True), target), \n",
    "#             num_parallel_calls=AUTO)\n",
    "# ds = ds.take(12*3)\n",
    "\n",
    "# show_dataset(64, 12, 3, ds)\n",
    "# del ds"
   ]
  },
  {
   "cell_type": "markdown",
   "metadata": {},
   "source": [
    "## Images from the test data"
   ]
  },
  {
   "cell_type": "code",
   "execution_count": 11,
   "metadata": {},
   "outputs": [],
   "source": [
    "# ds = get_dataset(files_test, CFG, labeled=False).unbatch().take(8*3)   \n",
    "# show_dataset(96, 8, 3, ds)\n",
    "# del ds"
   ]
  },
  {
   "cell_type": "markdown",
   "metadata": {},
   "source": [
    "# Model"
   ]
  },
  {
   "cell_type": "code",
   "execution_count": 16,
   "metadata": {},
   "outputs": [
    {
     "name": "stdout",
     "output_type": "stream",
     "text": [
      "Overwriting deep_binary_classifier.py\n"
     ]
    }
   ],
   "source": [
    "%%writefile deep_binary_classifier.py\n",
    "import os\n",
    "import tensorflow as tf\n",
    "import tensorflow_addons as tfa\n",
    "import tensorflow.keras.backend as K\n",
    "import efficientnet.tfkeras as efn\n",
    "\n",
    "def get_model(cfg, backbone, drop_rate=0.3, **kwargs):\n",
    "    ''' create typical transfer learning model with a given backbone '''\n",
    "    model_input = tf.keras.Input(shape=(cfg['net_size'], cfg['net_size'], 3), name='in')\n",
    "    outputs = []\n",
    "\n",
    "    x = backbone(include_top=False,\n",
    "                 input_shape=(cfg['net_size'], cfg['net_size'], 3),\n",
    "                 **kwargs)(model_input)\n",
    "\n",
    "    x = tf.keras.layers.Dropout(rate=drop_rate, name='top_dropout')(x)\n",
    "    x = tf.keras.layers.Dense(1, activation='sigmoid')(x)\n",
    "    model = tf.keras.Model(model_input, x, name='EfficientNet')\n",
    "\n",
    "    model.summary()\n",
    "    return model\n",
    "\n",
    "def compile_new_model(cfg,\n",
    "                      backbone=efn.EfficientNetB0,\n",
    "                      weights='noisy-student',\n",
    "                      **kwargs):\n",
    "    ''' create and compile a binary classifier '''\n",
    "    model = get_model(cfg,\n",
    "                      backbone=backbone,\n",
    "                      weights=weights,\n",
    "                      **kwargs)\n",
    "    loss = tf.keras.losses.BinaryCrossentropy(label_smoothing=cfg['label_smooth_fac'])\n",
    "\n",
    "    model.compile(\n",
    "        optimizer = cfg['optimizer'],\n",
    "        loss      = loss,\n",
    "        metrics   = [tf.keras.metrics.AUC(name='auc')])\n",
    "\n",
    "    return model"
   ]
  },
  {
   "cell_type": "code",
   "execution_count": 17,
   "metadata": {},
   "outputs": [
    {
     "name": "stdout",
     "output_type": "stream",
     "text": [
      "Model: \"EfficientNet\"\n",
      "_________________________________________________________________\n",
      "Layer (type)                 Output Shape              Param #   \n",
      "=================================================================\n",
      "in (InputLayer)              [(None, 224, 224, 3)]     0         \n",
      "_________________________________________________________________\n",
      "efficientnet-b2 (Model)      (None, 1408)              7768562   \n",
      "_________________________________________________________________\n",
      "top_dropout (Dropout)        (None, 1408)              0         \n",
      "_________________________________________________________________\n",
      "dense (Dense)                (None, 1)                 1409      \n",
      "=================================================================\n",
      "Total params: 7,769,971\n",
      "Trainable params: 7,702,403\n",
      "Non-trainable params: 67,568\n",
      "_________________________________________________________________\n"
     ]
    }
   ],
   "source": [
    "from deep_binary_classifier import compile_new_model\n",
    "\n",
    "with strategy.scope():\n",
    "    model = compile_new_model(CFG,\n",
    "                              efn.EfficientNetB2,\n",
    "                              BASEPATH + '../efficientnet-b2_noisy-student_notop.h5',\n",
    "                              pooling='avg',\n",
    "                             )\n",
    "\n",
    "# EfficientNet: Rethinking Model Scaling for Convolutional Neural Networks\n",
    "# https://arxiv.org/pdf/1905.11946.pdf"
   ]
  },
  {
   "cell_type": "code",
   "execution_count": 18,
   "metadata": {},
   "outputs": [],
   "source": [
    "\n",
    "# Log loss and metric history in TensorBoard format\n",
    "tb_logdir = OUTPUTPATH + 'logs'\n",
    "tensorboard_cb = tf.keras.callbacks.TensorBoard(log_dir=tb_logdir, update_freq=50,\n",
    "                                                histogram_freq=0, profile_batch=0)\n",
    "\n",
    "# In TF <=2.2 ModelCheckpoint allows fault tolerance\n",
    "# in cases where workers die or are otherwise unstable.\n",
    "# We do this by preserving training state in the distributed file system of your choice,\n",
    "# such that upon restart of the instance that previously failed or preempted,\n",
    "# the training state is recovered.\n",
    "checkpoint_path = OUTPUTPATH + 'weights{epoch:03d}-auc{val_auc:.05f}.h5'\n",
    "checkpoint_cb = tf.keras.callbacks.ModelCheckpoint(\n",
    "    filepath=checkpoint_path,\n",
    "    save_weights_only=False,\n",
    "    save_best_only=True,\n",
    "    verbose=1, monitor='val_auc', mode='max',\n",
    ")\n",
    "\n",
    "# Stops training if metric dosen't improve for 'patience' epoches\n",
    "stopping_cb = tf.keras.callbacks.EarlyStopping(monitor='val_auc', min_delta=1e-5,\n",
    "                                               mode='max', patience=CFG.epochs//2, verbose=1,\n",
    "                                               restore_best_weights=True)\n",
    "\n",
    "# LR and momentum scheduler\n",
    "lr_sched_cb = OneCycleScheduler(lr_max=CFG.LR_MAX,\n",
    "                                steps=CFG.epochs * steps_train,\n",
    "                                mom_min=0.85, mom_max=0.95,\n",
    "                                phase_1_pct=CFG.LR_RAMPUP_EPOCHS / CFG.epochs,\n",
    "                                div_factor=CFG.LR_MAX / CFG.LR_START,\n",
    "                                final_div_factor=CFG.LR_MAX / CFG.LR_END)\n",
    "\n",
    "# lr_sched_cb = tf.keras.callbacks.ReduceLROnPlateau(monitor='val_loss', mode='auto', verbose=1,\n",
    "#                                                    factor=0.3, patience=2, cooldown=1,\n",
    "#                                                    min_delta=1e-4, min_lr=1e-8)\n",
    "\n",
    "# Nicer progress output, both on jupyter and console\n",
    "tqdm_progbar = tfa.callbacks.TQDMProgressBar()\n",
    "\n",
    "callbacks = [tensorboard_cb, checkpoint_cb, stopping_cb, lr_sched_cb, tqdm_progbar]"
   ]
  },
  {
   "cell_type": "code",
   "execution_count": 19,
   "metadata": {},
   "outputs": [
    {
     "data": {
      "text/html": [
       "\n",
       "        <iframe\n",
       "            width=\"100%\"\n",
       "            height=\"800\"\n",
       "            src=\"https://dealmeih.jupyter.cscs.ch/hub/user-redirect/proxy/6007/#scalars\"\n",
       "            frameborder=\"0\"\n",
       "            allowfullscreen\n",
       "        ></iframe>\n",
       "        "
      ],
      "text/plain": [
       "<IPython.lib.display.IFrame at 0x2aad03e00fd0>"
      ]
     },
     "metadata": {},
     "output_type": "display_data"
    }
   ],
   "source": [
    "!rm -rf {tb_logdir}\n",
    "\n",
    "from tb_cscs import tensorboard\n",
    "%tensorboard  --logdir={tb_logdir}  --host localhost"
   ]
  },
  {
   "cell_type": "code",
   "execution_count": 20,
   "metadata": {},
   "outputs": [
    {
     "data": {
      "application/vnd.jupyter.widget-view+json": {
       "model_id": "6a6cafa2287e499c9656113bc63acadf",
       "version_major": 2,
       "version_minor": 0
      },
      "text/plain": [
       "HBox(children=(FloatProgress(value=0.0, description='Training', layout=Layout(flex='2'), max=15.0, style=Progr…"
      ]
     },
     "metadata": {},
     "output_type": "display_data"
    },
    {
     "name": "stdout",
     "output_type": "stream",
     "text": [
      "Epoch 1/15\n"
     ]
    },
    {
     "data": {
      "application/vnd.jupyter.widget-view+json": {
       "model_id": "927f5afe045845638ed3dcb4ef30e2c1",
       "version_major": 2,
       "version_minor": 0
      },
      "text/plain": [
       "HBox(children=(FloatProgress(value=0.0, layout=Layout(flex='2'), max=327.0), HTML(value='')), layout=Layout(di…"
      ]
     },
     "metadata": {},
     "output_type": "display_data"
    },
    {
     "name": "stdout",
     "output_type": "stream",
     "text": [
      "\n",
      "Epoch 00001: val_auc improved from -inf to 0.37116, saving model to /scratch/snx3000/dealmeih/summer_school/melanoma_f0/weights001-auc0.37116.h5\n",
      "\n",
      "Epoch 2/15\n"
     ]
    },
    {
     "data": {
      "application/vnd.jupyter.widget-view+json": {
       "model_id": "93c633e812cd4110b8caba9e2117e3ee",
       "version_major": 2,
       "version_minor": 0
      },
      "text/plain": [
       "HBox(children=(FloatProgress(value=0.0, layout=Layout(flex='2'), max=327.0), HTML(value='')), layout=Layout(di…"
      ]
     },
     "metadata": {},
     "output_type": "display_data"
    },
    {
     "name": "stdout",
     "output_type": "stream",
     "text": [
      "\n",
      "Epoch 00002: val_auc improved from 0.37116 to 0.76932, saving model to /scratch/snx3000/dealmeih/summer_school/melanoma_f0/weights002-auc0.76932.h5\n",
      "\n",
      "Epoch 3/15\n"
     ]
    },
    {
     "data": {
      "application/vnd.jupyter.widget-view+json": {
       "model_id": "837d0c12a2264298940caee56224b055",
       "version_major": 2,
       "version_minor": 0
      },
      "text/plain": [
       "HBox(children=(FloatProgress(value=0.0, layout=Layout(flex='2'), max=327.0), HTML(value='')), layout=Layout(di…"
      ]
     },
     "metadata": {},
     "output_type": "display_data"
    },
    {
     "name": "stdout",
     "output_type": "stream",
     "text": [
      "\n",
      "Epoch 00003: val_auc improved from 0.76932 to 0.84327, saving model to /scratch/snx3000/dealmeih/summer_school/melanoma_f0/weights003-auc0.84327.h5\n",
      "\n",
      "Epoch 4/15\n"
     ]
    },
    {
     "data": {
      "application/vnd.jupyter.widget-view+json": {
       "model_id": "9383da7feebb4582891a3c22a3e7c726",
       "version_major": 2,
       "version_minor": 0
      },
      "text/plain": [
       "HBox(children=(FloatProgress(value=0.0, layout=Layout(flex='2'), max=327.0), HTML(value='')), layout=Layout(di…"
      ]
     },
     "metadata": {},
     "output_type": "display_data"
    },
    {
     "name": "stdout",
     "output_type": "stream",
     "text": [
      "\n",
      "Epoch 00004: val_auc did not improve from 0.84327\n",
      "\n",
      "Epoch 5/15\n"
     ]
    },
    {
     "data": {
      "application/vnd.jupyter.widget-view+json": {
       "model_id": "84c1d302a26b4636a492e7f319d88117",
       "version_major": 2,
       "version_minor": 0
      },
      "text/plain": [
       "HBox(children=(FloatProgress(value=0.0, layout=Layout(flex='2'), max=327.0), HTML(value='')), layout=Layout(di…"
      ]
     },
     "metadata": {},
     "output_type": "display_data"
    },
    {
     "name": "stdout",
     "output_type": "stream",
     "text": [
      "\n",
      "Epoch 00005: val_auc improved from 0.84327 to 0.84449, saving model to /scratch/snx3000/dealmeih/summer_school/melanoma_f0/weights005-auc0.84449.h5\n",
      "\n",
      "Epoch 6/15\n"
     ]
    },
    {
     "data": {
      "application/vnd.jupyter.widget-view+json": {
       "model_id": "9745ef46d04e4f5f82e3abf14ce630b3",
       "version_major": 2,
       "version_minor": 0
      },
      "text/plain": [
       "HBox(children=(FloatProgress(value=0.0, layout=Layout(flex='2'), max=327.0), HTML(value='')), layout=Layout(di…"
      ]
     },
     "metadata": {},
     "output_type": "display_data"
    },
    {
     "name": "stdout",
     "output_type": "stream",
     "text": [
      "\n",
      "Epoch 00006: val_auc improved from 0.84449 to 0.86103, saving model to /scratch/snx3000/dealmeih/summer_school/melanoma_f0/weights006-auc0.86103.h5\n",
      "\n",
      "Epoch 7/15\n"
     ]
    },
    {
     "data": {
      "application/vnd.jupyter.widget-view+json": {
       "model_id": "0630a1e43e464dd2b2c8a651f7a36c8d",
       "version_major": 2,
       "version_minor": 0
      },
      "text/plain": [
       "HBox(children=(FloatProgress(value=0.0, layout=Layout(flex='2'), max=327.0), HTML(value='')), layout=Layout(di…"
      ]
     },
     "metadata": {},
     "output_type": "display_data"
    },
    {
     "name": "stdout",
     "output_type": "stream",
     "text": [
      "\n",
      "Epoch 00007: val_auc did not improve from 0.86103\n",
      "\n",
      "Epoch 8/15\n"
     ]
    },
    {
     "data": {
      "application/vnd.jupyter.widget-view+json": {
       "model_id": "ebfc3740c3a74d4687e7ca42b9c4d7c2",
       "version_major": 2,
       "version_minor": 0
      },
      "text/plain": [
       "HBox(children=(FloatProgress(value=0.0, layout=Layout(flex='2'), max=327.0), HTML(value='')), layout=Layout(di…"
      ]
     },
     "metadata": {},
     "output_type": "display_data"
    },
    {
     "name": "stdout",
     "output_type": "stream",
     "text": [
      "\n",
      "Epoch 00008: val_auc did not improve from 0.86103\n",
      "\n",
      "Epoch 9/15\n"
     ]
    },
    {
     "data": {
      "application/vnd.jupyter.widget-view+json": {
       "model_id": "cfbc1bf974d94680ac20f84b85e46419",
       "version_major": 2,
       "version_minor": 0
      },
      "text/plain": [
       "HBox(children=(FloatProgress(value=0.0, layout=Layout(flex='2'), max=327.0), HTML(value='')), layout=Layout(di…"
      ]
     },
     "metadata": {},
     "output_type": "display_data"
    },
    {
     "name": "stdout",
     "output_type": "stream",
     "text": [
      "\n",
      "Epoch 00009: val_auc improved from 0.86103 to 0.87142, saving model to /scratch/snx3000/dealmeih/summer_school/melanoma_f0/weights009-auc0.87142.h5\n",
      "\n",
      "Epoch 10/15\n"
     ]
    },
    {
     "data": {
      "application/vnd.jupyter.widget-view+json": {
       "model_id": "2a70a9cb904e4263933c8292d8758e75",
       "version_major": 2,
       "version_minor": 0
      },
      "text/plain": [
       "HBox(children=(FloatProgress(value=0.0, layout=Layout(flex='2'), max=327.0), HTML(value='')), layout=Layout(di…"
      ]
     },
     "metadata": {},
     "output_type": "display_data"
    },
    {
     "name": "stdout",
     "output_type": "stream",
     "text": [
      "\n",
      "Epoch 00010: val_auc improved from 0.87142 to 0.87627, saving model to /scratch/snx3000/dealmeih/summer_school/melanoma_f0/weights010-auc0.87627.h5\n",
      "\n",
      "Epoch 11/15\n"
     ]
    },
    {
     "data": {
      "application/vnd.jupyter.widget-view+json": {
       "model_id": "af49cc4b25ce44d0a0d386fd5487364f",
       "version_major": 2,
       "version_minor": 0
      },
      "text/plain": [
       "HBox(children=(FloatProgress(value=0.0, layout=Layout(flex='2'), max=327.0), HTML(value='')), layout=Layout(di…"
      ]
     },
     "metadata": {},
     "output_type": "display_data"
    },
    {
     "name": "stdout",
     "output_type": "stream",
     "text": [
      "\n",
      "Epoch 00011: val_auc improved from 0.87627 to 0.88836, saving model to /scratch/snx3000/dealmeih/summer_school/melanoma_f0/weights011-auc0.88836.h5\n",
      "\n",
      "Epoch 12/15\n"
     ]
    },
    {
     "data": {
      "application/vnd.jupyter.widget-view+json": {
       "model_id": "398dc8da59034bdd9f59421abdbf262d",
       "version_major": 2,
       "version_minor": 0
      },
      "text/plain": [
       "HBox(children=(FloatProgress(value=0.0, layout=Layout(flex='2'), max=327.0), HTML(value='')), layout=Layout(di…"
      ]
     },
     "metadata": {},
     "output_type": "display_data"
    },
    {
     "name": "stdout",
     "output_type": "stream",
     "text": [
      "\n",
      "Epoch 00012: val_auc did not improve from 0.88836\n",
      "\n",
      "Epoch 13/15\n"
     ]
    },
    {
     "data": {
      "application/vnd.jupyter.widget-view+json": {
       "model_id": "febba515999240549d71afe8a6626ed1",
       "version_major": 2,
       "version_minor": 0
      },
      "text/plain": [
       "HBox(children=(FloatProgress(value=0.0, layout=Layout(flex='2'), max=327.0), HTML(value='')), layout=Layout(di…"
      ]
     },
     "metadata": {},
     "output_type": "display_data"
    },
    {
     "name": "stdout",
     "output_type": "stream",
     "text": [
      "\n",
      "Epoch 00013: val_auc did not improve from 0.88836\n",
      "\n",
      "Epoch 14/15\n"
     ]
    },
    {
     "data": {
      "application/vnd.jupyter.widget-view+json": {
       "model_id": "bab828e8220b493695f0f7992acaebe8",
       "version_major": 2,
       "version_minor": 0
      },
      "text/plain": [
       "HBox(children=(FloatProgress(value=0.0, layout=Layout(flex='2'), max=327.0), HTML(value='')), layout=Layout(di…"
      ]
     },
     "metadata": {},
     "output_type": "display_data"
    },
    {
     "name": "stdout",
     "output_type": "stream",
     "text": [
      "\n",
      "Epoch 00014: val_auc did not improve from 0.88836\n",
      "\n",
      "Epoch 15/15\n"
     ]
    },
    {
     "data": {
      "application/vnd.jupyter.widget-view+json": {
       "model_id": "6f02c22bebb140378acf6a639d179a98",
       "version_major": 2,
       "version_minor": 0
      },
      "text/plain": [
       "HBox(children=(FloatProgress(value=0.0, layout=Layout(flex='2'), max=327.0), HTML(value='')), layout=Layout(di…"
      ]
     },
     "metadata": {},
     "output_type": "display_data"
    },
    {
     "name": "stdout",
     "output_type": "stream",
     "text": [
      "\n",
      "Epoch 00015: val_auc improved from 0.88836 to 0.88989, saving model to /scratch/snx3000/dealmeih/summer_school/melanoma_f0/weights015-auc0.88989.h5\n",
      "\n",
      "\n"
     ]
    }
   ],
   "source": [
    "history = model.fit(ds_train, \n",
    "                    verbose          = 0, # use TQDMProgressBar instead\n",
    "                    steps_per_epoch  = steps_train,\n",
    "                    epochs           = CFG.epochs,\n",
    "                    validation_data  = ds_valid,\n",
    "                    validation_steps = steps_valid,\n",
    "                    callbacks        = callbacks\n",
    "                   )"
   ]
  },
  {
   "cell_type": "code",
   "execution_count": 21,
   "metadata": {},
   "outputs": [
    {
     "data": {
      "image/png": "[encoded data removed]",
      "text/plain": [
       "<Figure size 1080x432 with 3 Axes>"
      ]
     },
     "metadata": {
      "needs_background": "light"
     },
     "output_type": "display_data"
    }
   ],
   "source": [
    "if hasattr(lr_sched_cb, 'plot'):\n",
    "    lr_sched_cb.plot()"
   ]
  },
  {
   "cell_type": "markdown",
   "metadata": {},
   "source": [
    "### predict the test set using augmented images"
   ]
  },
  {
   "cell_type": "code",
   "execution_count": 22,
   "metadata": {},
   "outputs": [
    {
     "name": "stdout",
     "output_type": "stream",
     "text": [
      "172/171 [==============================] - 56s 326ms/step\n"
     ]
    }
   ],
   "source": [
    "CFG['batch_size'] = 256\n",
    "\n",
    "cnt_test   = count_data_items(files_test)\n",
    "steps      = cnt_test / (CFG['batch_size']) * CFG['tta_steps']\n",
    "ds_testAug = get_dataset(files_test, CFG, augment=True, repeat=True, \n",
    "                         labeled=False, return_image_names=False)\n",
    "\n",
    "probs = model.predict(ds_testAug, verbose=1, steps=steps)\n",
    "probs = probs[:cnt_test * CFG['tta_steps']].reshape(CFG['tta_steps'], cnt_test)\n",
    "probs = np.mean(probs, axis=0)"
   ]
  },
  {
   "cell_type": "markdown",
   "metadata": {},
   "source": [
    "### sort predictions to have the same order as the submission\n",
    "The submission ist sorted by image_name, but the dataset yielded a different order.\n",
    "Traverse the test dataset once again and capture the image_names. Then join this list of image_names with the predictions and sort by image_name."
   ]
  },
  {
   "cell_type": "code",
   "execution_count": 23,
   "metadata": {},
   "outputs": [],
   "source": [
    "ds = get_dataset(files_test, CFG, augment=False, repeat=False, \n",
    "                 labeled=False, return_image_names=True)\n",
    "\n",
    "image_names = np.array([img_name.numpy().decode(\"utf-8\") \n",
    "                        for img, img_name in iter(ds.unbatch())])"
   ]
  },
  {
   "cell_type": "code",
   "execution_count": 24,
   "metadata": {},
   "outputs": [
    {
     "data": {
      "text/html": [
       "<div>\n",
       "<style scoped>\n",
       "    .dataframe tbody tr th:only-of-type {\n",
       "        vertical-align: middle;\n",
       "    }\n",
       "\n",
       "    .dataframe tbody tr th {\n",
       "        vertical-align: top;\n",
       "    }\n",
       "\n",
       "    .dataframe thead th {\n",
       "        text-align: right;\n",
       "    }\n",
       "</style>\n",
       "<table border=\"1\" class=\"dataframe\">\n",
       "  <thead>\n",
       "    <tr style=\"text-align: right;\">\n",
       "      <th></th>\n",
       "      <th>image_name</th>\n",
       "      <th>target</th>\n",
       "    </tr>\n",
       "  </thead>\n",
       "  <tbody>\n",
       "    <tr>\n",
       "      <th>9905</th>\n",
       "      <td>ISIC_0052060</td>\n",
       "      <td>0.022893</td>\n",
       "    </tr>\n",
       "    <tr>\n",
       "      <th>1443</th>\n",
       "      <td>ISIC_0052349</td>\n",
       "      <td>0.023226</td>\n",
       "    </tr>\n",
       "    <tr>\n",
       "      <th>3120</th>\n",
       "      <td>ISIC_0058510</td>\n",
       "      <td>0.023425</td>\n",
       "    </tr>\n",
       "    <tr>\n",
       "      <th>4870</th>\n",
       "      <td>ISIC_0073313</td>\n",
       "      <td>0.024593</td>\n",
       "    </tr>\n",
       "    <tr>\n",
       "      <th>5494</th>\n",
       "      <td>ISIC_0073502</td>\n",
       "      <td>0.034360</td>\n",
       "    </tr>\n",
       "    <tr>\n",
       "      <th>...</th>\n",
       "      <td>...</td>\n",
       "      <td>...</td>\n",
       "    </tr>\n",
       "    <tr>\n",
       "      <th>5994</th>\n",
       "      <td>ISIC_9992485</td>\n",
       "      <td>0.023204</td>\n",
       "    </tr>\n",
       "    <tr>\n",
       "      <th>3980</th>\n",
       "      <td>ISIC_9996992</td>\n",
       "      <td>0.037673</td>\n",
       "    </tr>\n",
       "    <tr>\n",
       "      <th>6974</th>\n",
       "      <td>ISIC_9997917</td>\n",
       "      <td>0.047831</td>\n",
       "    </tr>\n",
       "    <tr>\n",
       "      <th>1278</th>\n",
       "      <td>ISIC_9998234</td>\n",
       "      <td>0.028712</td>\n",
       "    </tr>\n",
       "    <tr>\n",
       "      <th>3384</th>\n",
       "      <td>ISIC_9999302</td>\n",
       "      <td>0.036702</td>\n",
       "    </tr>\n",
       "  </tbody>\n",
       "</table>\n",
       "<p>10982 rows × 2 columns</p>\n",
       "</div>"
      ],
      "text/plain": [
       "        image_name    target\n",
       "9905  ISIC_0052060  0.022893\n",
       "1443  ISIC_0052349  0.023226\n",
       "3120  ISIC_0058510  0.023425\n",
       "4870  ISIC_0073313  0.024593\n",
       "5494  ISIC_0073502  0.034360\n",
       "...            ...       ...\n",
       "5994  ISIC_9992485  0.023204\n",
       "3980  ISIC_9996992  0.037673\n",
       "6974  ISIC_9997917  0.047831\n",
       "1278  ISIC_9998234  0.028712\n",
       "3384  ISIC_9999302  0.036702\n",
       "\n",
       "[10982 rows x 2 columns]"
      ]
     },
     "execution_count": 24,
     "metadata": {},
     "output_type": "execute_result"
    },
    {
     "data": {
      "image/png": "[encoded data removed]",
      "text/plain": [
       "<Figure size 432x288 with 1 Axes>"
      ]
     },
     "metadata": {
      "needs_background": "light"
     },
     "output_type": "display_data"
    }
   ],
   "source": [
    "submission = pd.DataFrame(dict(\n",
    "    image_name = image_names,\n",
    "    target     = probs))\n",
    "\n",
    "submission.target.hist(bins=100, log=True, alpha=0.6)\n",
    "\n",
    "submission = submission.sort_values('image_name')\n",
    "submission.to_csv('submission.csv', index=False)\n",
    "\n",
    "submission"
   ]
  },
  {
   "cell_type": "code",
   "execution_count": 25,
   "metadata": {},
   "outputs": [
    {
     "name": "stdout",
     "output_type": "stream",
     "text": [
      "total 266M\n",
      "4.0K logs\t\t        31M weights006-auc0.86103.h5\n",
      " 31M weights001-auc0.37116.h5   31M weights009-auc0.87142.h5\n",
      " 31M weights002-auc0.76932.h5   31M weights010-auc0.87627.h5\n",
      " 31M weights003-auc0.84327.h5   25M weights011-auc0.88836.h5\n",
      " 31M weights005-auc0.84449.h5   31M weights015-auc0.88989.h5\n"
     ]
    }
   ],
   "source": [
    "!ls -sh {OUTPUTPATH}"
   ]
  },
  {
   "cell_type": "code",
   "execution_count": 26,
   "metadata": {},
   "outputs": [],
   "source": [
    "df_sub = pd.read_csv(os.path.join(BASEPATH, 'sample_submission.csv'))\n",
    "assert len(submission) == len(df_sub)"
   ]
  }
 ],
 "metadata": {
  "kernelspec": {
   "display_name": "miniconda-sc2020",
   "language": "python",
   "name": "miniconda-sc2020"
  },
  "language_info": {
   "codemirror_mode": {
    "name": "ipython",
    "version": 3
   },
   "file_extension": ".py",
   "mimetype": "text/x-python",
   "name": "python",
   "nbconvert_exporter": "python",
   "pygments_lexer": "ipython3",
   "version": "3.6.10"
  }
 },
 "nbformat": 4,
 "nbformat_minor": 4
}
